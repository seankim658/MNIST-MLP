{
 "cells": [
  {
   "cell_type": "code",
   "execution_count": 2,
   "metadata": {},
   "outputs": [
    {
     "name": "stdout",
     "output_type": "stream",
     "text": [
      "cuda available..\n"
     ]
    }
   ],
   "source": [
    "import numpy as np # to handle matrix and data operation\n",
    "import pandas as pd # to read csv and handle dataframe\n",
    "\n",
    "import torch\n",
    "import torch.nn as nn\n",
    "import torch.nn.functional as F\n",
    "import torch.utils.data\n",
    "from torch.autograd import Variable\n",
    "import torch.optim as optim\n",
    "\n",
    "import matplotlib.pyplot as plt\n",
    "\n",
    "from sklearn.model_selection import train_test_split\n",
    "\n",
    "# CUDA?\n",
    "cuda = torch.cuda.is_available()\n",
    "\n",
    "# For reproducibility\n",
    "SEED = 1\n",
    "torch.manual_seed(SEED)\n",
    "\n",
    "if cuda:\n",
    "    print('cuda available..')\n",
    "    torch.cuda.manual_seed(SEED)"
   ]
  },
  {
   "cell_type": "code",
   "execution_count": 3,
   "metadata": {},
   "outputs": [
    {
     "data": {
      "text/plain": [
       "True"
      ]
     },
     "execution_count": 3,
     "metadata": {},
     "output_type": "execute_result"
    }
   ],
   "source": [
    "torch.cuda.is_available()"
   ]
  },
  {
   "cell_type": "code",
   "execution_count": 4,
   "metadata": {},
   "outputs": [
    {
     "name": "stdout",
     "output_type": "stream",
     "text": [
      "(42000, 785)\n"
     ]
    }
   ],
   "source": [
    "dataset_filename = 'data_mnist.csv'\n",
    "df = pd.read_csv(dataset_filename)\n",
    "print(df.shape)"
   ]
  },
  {
   "cell_type": "code",
   "execution_count": 14,
   "metadata": {},
   "outputs": [
    {
     "data": {
      "text/plain": [
       "(42000, 785)"
      ]
     },
     "execution_count": 14,
     "metadata": {},
     "output_type": "execute_result"
    }
   ],
   "source": [
    "df.shape"
   ]
  },
  {
   "cell_type": "code",
   "execution_count": 5,
   "metadata": {},
   "outputs": [],
   "source": [
    "y =  df['label'].to_numpy()\n",
    "X =  df.drop('label', axis = 1).to_numpy()\n",
    "\n",
    "\n",
    "X_train, X_test, y_train, y_test = train_test_split(X, y, test_size=0.15)"
   ]
  },
  {
   "cell_type": "code",
   "execution_count": 6,
   "metadata": {},
   "outputs": [
    {
     "name": "stdout",
     "output_type": "stream",
     "text": [
      "(6300,)\n"
     ]
    }
   ],
   "source": [
    "print(y_test.shape)"
   ]
  },
  {
   "cell_type": "code",
   "execution_count": 17,
   "metadata": {},
   "outputs": [
    {
     "data": {
      "text/plain": [
       "array([1, 0, 1, ..., 7, 6, 9], dtype=int64)"
      ]
     },
     "execution_count": 17,
     "metadata": {},
     "output_type": "execute_result"
    }
   ],
   "source": [
    "y"
   ]
  },
  {
   "cell_type": "code",
   "execution_count": 13,
   "metadata": {},
   "outputs": [
    {
     "data": {
      "text/plain": [
       "(35700, 784)"
      ]
     },
     "execution_count": 13,
     "metadata": {},
     "output_type": "execute_result"
    }
   ],
   "source": [
    "X_train.shape"
   ]
  },
  {
   "cell_type": "code",
   "execution_count": 7,
   "metadata": {},
   "outputs": [],
   "source": [
    "BATCH_SIZE = 32\n",
    "\n",
    "torch_X_train = torch.from_numpy(X_train).type(torch.LongTensor)\n",
    "torch_y_train = torch.from_numpy(y_train).type(torch.LongTensor) # data type is long\n",
    "\n",
    "# create feature and targets tensor for test set.\n",
    "torch_X_test = torch.from_numpy(X_test).type(torch.LongTensor)\n",
    "torch_y_test = torch.from_numpy(y_test).type(torch.LongTensor) # data type is long\n",
    "\n",
    "# Pytorch train and test sets\n",
    "train = torch.utils.data.TensorDataset(torch_X_train,torch_y_train)\n",
    "test = torch.utils.data.TensorDataset(torch_X_test,torch_y_test)\n",
    "\n",
    "# data loader\n",
    "train_loader = torch.utils.data.DataLoader(train, batch_size = BATCH_SIZE, shuffle = False)\n",
    "test_loader = torch.utils.data.DataLoader(test, batch_size = BATCH_SIZE, shuffle = False)"
   ]
  },
  {
   "cell_type": "code",
   "execution_count": 8,
   "metadata": {},
   "outputs": [
    {
     "name": "stdout",
     "output_type": "stream",
     "text": [
      "MLP(\n",
      "  (linear1): Linear(in_features=784, out_features=250, bias=True)\n",
      "  (linear2): Linear(in_features=250, out_features=100, bias=True)\n",
      "  (linear3): Linear(in_features=100, out_features=10, bias=True)\n",
      ")\n"
     ]
    }
   ],
   "source": [
    "input_dim = 784\n",
    "output_dim = 10\n",
    "class MLP(nn.Module):\n",
    "    def __init__(self):\n",
    "        super(MLP, self).__init__()\n",
    "        self.linear1 = nn.Linear(input_dim,250)\n",
    "        self.linear2 = nn.Linear(250,100)\n",
    "        self.linear3 = nn.Linear(100,output_dim)\n",
    "    \n",
    "    def forward(self,X):\n",
    "        X = F.relu(self.linear1(X))\n",
    "        X = F.relu(self.linear2(X))\n",
    "        X = self.linear3(X)\n",
    "        return F.log_softmax(X, dim=1)\n",
    " \n",
    "mlp = MLP()\n",
    "print(mlp)"
   ]
  },
  {
   "cell_type": "code",
   "execution_count": 18,
   "metadata": {},
   "outputs": [
    {
     "name": "stdout",
     "output_type": "stream",
     "text": [
      "0\n",
      "tensor([[0, 0, 0,  ..., 0, 0, 0],\n",
      "        [0, 0, 0,  ..., 0, 0, 0],\n",
      "        [0, 0, 0,  ..., 0, 0, 0],\n",
      "        ...,\n",
      "        [0, 0, 0,  ..., 0, 0, 0],\n",
      "        [0, 0, 0,  ..., 0, 0, 0],\n",
      "        [0, 0, 0,  ..., 0, 0, 0]])\n",
      "tensor([[0., 0., 0.,  ..., 0., 0., 0.],\n",
      "        [0., 0., 0.,  ..., 0., 0., 0.],\n",
      "        [0., 0., 0.,  ..., 0., 0., 0.],\n",
      "        ...,\n",
      "        [0., 0., 0.,  ..., 0., 0., 0.],\n",
      "        [0., 0., 0.,  ..., 0., 0., 0.],\n",
      "        [0., 0., 0.,  ..., 0., 0., 0.]])\n"
     ]
    }
   ],
   "source": [
    "for batch, (images, labels) in enumerate(train_loader):\n",
    "    print(batch)\n",
    "    print(images)\n",
    "    print(Variable(images).float())\n",
    "    break"
   ]
  },
  {
   "cell_type": "code",
   "execution_count": 19,
   "metadata": {},
   "outputs": [],
   "source": [
    "def fit(model, train_loader):\n",
    "    optimizer = torch.optim.Adam(model.parameters())\n",
    "    error = nn.CrossEntropyLoss()\n",
    "    EPOCHS = 5\n",
    "    model.train()\n",
    "    for epoch in range(EPOCHS):\n",
    "        correct = 0\n",
    "        for batch_idx, (X_batch, y_batch) in enumerate(train_loader):\n",
    "            var_X_batch = Variable(X_batch).float()\n",
    "            var_y_batch = Variable(y_batch)\n",
    "            optimizer.zero_grad()\n",
    "            output = model(var_X_batch)\n",
    "            loss = error(output, var_y_batch)\n",
    "            loss.backward()\n",
    "            optimizer.step()\n",
    "\n",
    "            # Total correct predictions\n",
    "            predicted = torch.max(output.data, 1)[1] \n",
    "            correct += (predicted == var_y_batch).sum()\n",
    "            #print(correct)\n",
    "            if batch_idx % 50 == 0:\n",
    "                print('Epoch : {} [{}/{} ({:.0f}%)]\\tLoss: {:.6f}\\t Accuracy:{:.3f}%'.format(\n",
    "                    epoch, batch_idx*len(X_batch), len(train_loader.dataset), 100.*batch_idx / len(train_loader), loss.data, float(correct*100) / float(BATCH_SIZE*(batch_idx+1))))"
   ]
  },
  {
   "cell_type": "code",
   "execution_count": 20,
   "metadata": {},
   "outputs": [
    {
     "name": "stdout",
     "output_type": "stream",
     "text": [
      "Epoch : 0 [0/35700 (0%)]\tLoss: 13.869745\t Accuracy:6.250%\n",
      "Epoch : 0 [1600/35700 (4%)]\tLoss: 0.776278\t Accuracy:66.789%\n",
      "Epoch : 0 [3200/35700 (9%)]\tLoss: 0.576651\t Accuracy:76.238%\n",
      "Epoch : 0 [4800/35700 (13%)]\tLoss: 0.218799\t Accuracy:80.112%\n",
      "Epoch : 0 [6400/35700 (18%)]\tLoss: 0.147727\t Accuracy:82.307%\n",
      "Epoch : 0 [8000/35700 (22%)]\tLoss: 0.287426\t Accuracy:83.752%\n",
      "Epoch : 0 [9600/35700 (27%)]\tLoss: 0.092025\t Accuracy:84.863%\n",
      "Epoch : 0 [11200/35700 (31%)]\tLoss: 0.203245\t Accuracy:85.755%\n",
      "Epoch : 0 [12800/35700 (36%)]\tLoss: 0.567634\t Accuracy:86.448%\n",
      "Epoch : 0 [14400/35700 (40%)]\tLoss: 0.125028\t Accuracy:86.994%\n",
      "Epoch : 0 [16000/35700 (45%)]\tLoss: 0.254789\t Accuracy:87.556%\n",
      "Epoch : 0 [17600/35700 (49%)]\tLoss: 0.037920\t Accuracy:88.044%\n",
      "Epoch : 0 [19200/35700 (54%)]\tLoss: 0.170525\t Accuracy:88.400%\n",
      "Epoch : 0 [20800/35700 (58%)]\tLoss: 0.100976\t Accuracy:88.657%\n",
      "Epoch : 0 [22400/35700 (63%)]\tLoss: 0.321754\t Accuracy:88.984%\n",
      "Epoch : 0 [24000/35700 (67%)]\tLoss: 0.215747\t Accuracy:89.185%\n",
      "Epoch : 0 [25600/35700 (72%)]\tLoss: 0.348282\t Accuracy:89.462%\n",
      "Epoch : 0 [27200/35700 (76%)]\tLoss: 0.231160\t Accuracy:89.733%\n",
      "Epoch : 0 [28800/35700 (81%)]\tLoss: 0.321704\t Accuracy:89.942%\n",
      "Epoch : 0 [30400/35700 (85%)]\tLoss: 0.276099\t Accuracy:90.073%\n",
      "Epoch : 0 [32000/35700 (90%)]\tLoss: 0.603116\t Accuracy:90.238%\n",
      "Epoch : 0 [33600/35700 (94%)]\tLoss: 0.139905\t Accuracy:90.453%\n",
      "Epoch : 0 [35200/35700 (99%)]\tLoss: 0.612448\t Accuracy:90.594%\n",
      "Epoch : 1 [0/35700 (0%)]\tLoss: 0.100865\t Accuracy:96.875%\n",
      "Epoch : 1 [1600/35700 (4%)]\tLoss: 0.181940\t Accuracy:95.159%\n",
      "Epoch : 1 [3200/35700 (9%)]\tLoss: 0.345345\t Accuracy:95.297%\n",
      "Epoch : 1 [4800/35700 (13%)]\tLoss: 0.222569\t Accuracy:95.219%\n",
      "Epoch : 1 [6400/35700 (18%)]\tLoss: 0.170572\t Accuracy:95.258%\n",
      "Epoch : 1 [8000/35700 (22%)]\tLoss: 0.442584\t Accuracy:95.194%\n",
      "Epoch : 1 [9600/35700 (27%)]\tLoss: 0.032598\t Accuracy:95.235%\n",
      "Epoch : 1 [11200/35700 (31%)]\tLoss: 0.150912\t Accuracy:95.183%\n",
      "Epoch : 1 [12800/35700 (36%)]\tLoss: 0.467951\t Accuracy:95.129%\n",
      "Epoch : 1 [14400/35700 (40%)]\tLoss: 0.032705\t Accuracy:95.177%\n",
      "Epoch : 1 [16000/35700 (45%)]\tLoss: 0.072317\t Accuracy:95.334%\n",
      "Epoch : 1 [17600/35700 (49%)]\tLoss: 0.370297\t Accuracy:95.344%\n",
      "Epoch : 1 [19200/35700 (54%)]\tLoss: 0.043457\t Accuracy:95.206%\n",
      "Epoch : 1 [20800/35700 (58%)]\tLoss: 0.228646\t Accuracy:95.195%\n",
      "Epoch : 1 [22400/35700 (63%)]\tLoss: 0.302450\t Accuracy:95.154%\n",
      "Epoch : 1 [24000/35700 (67%)]\tLoss: 0.221365\t Accuracy:95.073%\n",
      "Epoch : 1 [25600/35700 (72%)]\tLoss: 0.226421\t Accuracy:95.139%\n",
      "Epoch : 1 [27200/35700 (76%)]\tLoss: 0.152696\t Accuracy:95.171%\n",
      "Epoch : 1 [28800/35700 (81%)]\tLoss: 0.206732\t Accuracy:95.134%\n",
      "Epoch : 1 [30400/35700 (85%)]\tLoss: 0.083580\t Accuracy:95.114%\n",
      "Epoch : 1 [32000/35700 (90%)]\tLoss: 0.474085\t Accuracy:95.077%\n",
      "Epoch : 1 [33600/35700 (94%)]\tLoss: 0.052866\t Accuracy:95.121%\n",
      "Epoch : 1 [35200/35700 (99%)]\tLoss: 0.393807\t Accuracy:95.146%\n",
      "Epoch : 2 [0/35700 (0%)]\tLoss: 0.095804\t Accuracy:96.875%\n",
      "Epoch : 2 [1600/35700 (4%)]\tLoss: 0.187033\t Accuracy:96.201%\n",
      "Epoch : 2 [3200/35700 (9%)]\tLoss: 0.528873\t Accuracy:96.225%\n",
      "Epoch : 2 [4800/35700 (13%)]\tLoss: 0.115102\t Accuracy:96.192%\n",
      "Epoch : 2 [6400/35700 (18%)]\tLoss: 0.132370\t Accuracy:96.206%\n",
      "Epoch : 2 [8000/35700 (22%)]\tLoss: 0.144512\t Accuracy:96.240%\n",
      "Epoch : 2 [9600/35700 (27%)]\tLoss: 0.115155\t Accuracy:96.086%\n",
      "Epoch : 2 [11200/35700 (31%)]\tLoss: 0.223119\t Accuracy:96.002%\n",
      "Epoch : 2 [12800/35700 (36%)]\tLoss: 0.870971\t Accuracy:96.002%\n",
      "Epoch : 2 [14400/35700 (40%)]\tLoss: 0.057542\t Accuracy:96.057%\n",
      "Epoch : 2 [16000/35700 (45%)]\tLoss: 0.168394\t Accuracy:96.052%\n",
      "Epoch : 2 [17600/35700 (49%)]\tLoss: 0.115372\t Accuracy:96.053%\n",
      "Epoch : 2 [19200/35700 (54%)]\tLoss: 0.039950\t Accuracy:95.970%\n",
      "Epoch : 2 [20800/35700 (58%)]\tLoss: 0.175930\t Accuracy:96.006%\n",
      "Epoch : 2 [22400/35700 (63%)]\tLoss: 0.122107\t Accuracy:95.992%\n",
      "Epoch : 2 [24000/35700 (67%)]\tLoss: 0.204089\t Accuracy:95.935%\n",
      "Epoch : 2 [25600/35700 (72%)]\tLoss: 0.257928\t Accuracy:95.935%\n",
      "Epoch : 2 [27200/35700 (76%)]\tLoss: 0.117479\t Accuracy:96.023%\n",
      "Epoch : 2 [28800/35700 (81%)]\tLoss: 0.183172\t Accuracy:96.046%\n",
      "Epoch : 2 [30400/35700 (85%)]\tLoss: 0.021659\t Accuracy:96.057%\n",
      "Epoch : 2 [32000/35700 (90%)]\tLoss: 0.465356\t Accuracy:96.001%\n",
      "Epoch : 2 [33600/35700 (94%)]\tLoss: 0.043971\t Accuracy:96.010%\n",
      "Epoch : 2 [35200/35700 (99%)]\tLoss: 0.188643\t Accuracy:96.018%\n",
      "Epoch : 3 [0/35700 (0%)]\tLoss: 0.109887\t Accuracy:93.750%\n",
      "Epoch : 3 [1600/35700 (4%)]\tLoss: 0.059264\t Accuracy:97.549%\n",
      "Epoch : 3 [3200/35700 (9%)]\tLoss: 0.233062\t Accuracy:97.339%\n",
      "Epoch : 3 [4800/35700 (13%)]\tLoss: 0.144951\t Accuracy:96.958%\n",
      "Epoch : 3 [6400/35700 (18%)]\tLoss: 0.231241\t Accuracy:96.968%\n",
      "Epoch : 3 [8000/35700 (22%)]\tLoss: 0.039616\t Accuracy:96.813%\n",
      "Epoch : 3 [9600/35700 (27%)]\tLoss: 0.032526\t Accuracy:96.688%\n",
      "Epoch : 3 [11200/35700 (31%)]\tLoss: 0.035051\t Accuracy:96.563%\n",
      "Epoch : 3 [12800/35700 (36%)]\tLoss: 0.201490\t Accuracy:96.478%\n",
      "Epoch : 3 [14400/35700 (40%)]\tLoss: 0.020706\t Accuracy:96.480%\n",
      "Epoch : 3 [16000/35700 (45%)]\tLoss: 0.289685\t Accuracy:96.551%\n",
      "Epoch : 3 [17600/35700 (49%)]\tLoss: 0.015993\t Accuracy:96.563%\n",
      "Epoch : 3 [19200/35700 (54%)]\tLoss: 0.178501\t Accuracy:96.490%\n",
      "Epoch : 3 [20800/35700 (58%)]\tLoss: 0.135844\t Accuracy:96.472%\n",
      "Epoch : 3 [22400/35700 (63%)]\tLoss: 0.096286\t Accuracy:96.411%\n",
      "Epoch : 3 [24000/35700 (67%)]\tLoss: 0.420053\t Accuracy:96.376%\n",
      "Epoch : 3 [25600/35700 (72%)]\tLoss: 0.271450\t Accuracy:96.391%\n",
      "Epoch : 3 [27200/35700 (76%)]\tLoss: 0.017575\t Accuracy:96.453%\n",
      "Epoch : 3 [28800/35700 (81%)]\tLoss: 0.268204\t Accuracy:96.452%\n",
      "Epoch : 3 [30400/35700 (85%)]\tLoss: 0.234315\t Accuracy:96.428%\n",
      "Epoch : 3 [32000/35700 (90%)]\tLoss: 0.256443\t Accuracy:96.422%\n",
      "Epoch : 3 [33600/35700 (94%)]\tLoss: 0.012258\t Accuracy:96.477%\n",
      "Epoch : 3 [35200/35700 (99%)]\tLoss: 0.458715\t Accuracy:96.475%\n",
      "Epoch : 4 [0/35700 (0%)]\tLoss: 0.186573\t Accuracy:96.875%\n",
      "Epoch : 4 [1600/35700 (4%)]\tLoss: 0.141516\t Accuracy:96.998%\n",
      "Epoch : 4 [3200/35700 (9%)]\tLoss: 0.057631\t Accuracy:97.370%\n",
      "Epoch : 4 [4800/35700 (13%)]\tLoss: 0.088113\t Accuracy:97.392%\n",
      "Epoch : 4 [6400/35700 (18%)]\tLoss: 0.051975\t Accuracy:97.621%\n",
      "Epoch : 4 [8000/35700 (22%)]\tLoss: 0.108434\t Accuracy:97.585%\n",
      "Epoch : 4 [9600/35700 (27%)]\tLoss: 0.058410\t Accuracy:97.394%\n",
      "Epoch : 4 [11200/35700 (31%)]\tLoss: 0.010649\t Accuracy:97.338%\n",
      "Epoch : 4 [12800/35700 (36%)]\tLoss: 0.544670\t Accuracy:97.241%\n",
      "Epoch : 4 [14400/35700 (40%)]\tLoss: 0.017172\t Accuracy:97.215%\n",
      "Epoch : 4 [16000/35700 (45%)]\tLoss: 0.187514\t Accuracy:97.299%\n",
      "Epoch : 4 [17600/35700 (49%)]\tLoss: 0.015475\t Accuracy:97.295%\n",
      "Epoch : 4 [19200/35700 (54%)]\tLoss: 0.008090\t Accuracy:97.260%\n",
      "Epoch : 4 [20800/35700 (58%)]\tLoss: 0.048523\t Accuracy:97.259%\n",
      "Epoch : 4 [22400/35700 (63%)]\tLoss: 0.062752\t Accuracy:97.200%\n",
      "Epoch : 4 [24000/35700 (67%)]\tLoss: 0.265620\t Accuracy:97.145%\n",
      "Epoch : 4 [25600/35700 (72%)]\tLoss: 0.176836\t Accuracy:97.144%\n",
      "Epoch : 4 [27200/35700 (76%)]\tLoss: 0.238416\t Accuracy:97.154%\n",
      "Epoch : 4 [28800/35700 (81%)]\tLoss: 0.077820\t Accuracy:97.139%\n",
      "Epoch : 4 [30400/35700 (85%)]\tLoss: 0.093312\t Accuracy:97.098%\n",
      "Epoch : 4 [32000/35700 (90%)]\tLoss: 0.414646\t Accuracy:97.037%\n",
      "Epoch : 4 [33600/35700 (94%)]\tLoss: 0.011219\t Accuracy:97.003%\n",
      "Epoch : 4 [35200/35700 (99%)]\tLoss: 0.471549\t Accuracy:96.983%\n"
     ]
    }
   ],
   "source": [
    "fit(mlp, train_loader)"
   ]
  },
  {
   "cell_type": "code",
   "execution_count": 21,
   "metadata": {},
   "outputs": [
    {
     "name": "stdout",
     "output_type": "stream",
     "text": [
      "8\n",
      "tensor(8)\n"
     ]
    },
    {
     "data": {
      "image/png": "[encoded data removed]",
      "text/plain": [
       "<Figure size 432x288 with 1 Axes>"
      ]
     },
     "metadata": {
      "needs_background": "light"
     },
     "output_type": "display_data"
    }
   ],
   "source": [
    "mlp.eval()              # turn the model to evaluate mode\n",
    "index = 200\n",
    "torch_X_test = torch.from_numpy(X_test).type(torch.LongTensor)\n",
    "image = torch_X_test[index].float().unsqueeze(0)\n",
    "true_label = y_test[index]\n",
    "with torch.no_grad():     # does not calculate gradient\n",
    "    class_index = mlp(image).argmax()   #gets the prediction for the image's class\n",
    "plt.imshow(image.numpy().reshape(28,28,1), cmap='gray_r');\n",
    "print(true_label)\n",
    "print(class_index)"
   ]
  },
  {
   "cell_type": "code",
   "execution_count": 22,
   "metadata": {},
   "outputs": [
    {
     "name": "stdout",
     "output_type": "stream",
     "text": [
      "torch.Size([35700, 1, 28, 28])\n",
      "torch.Size([6300, 1, 28, 28])\n"
     ]
    }
   ],
   "source": [
    "torch_X_train = torch_X_train.view(-1, 1,28,28).float()\n",
    "torch_X_test = torch_X_test.view(-1,1,28,28).float()\n",
    "print(torch_X_train.shape)\n",
    "print(torch_X_test.shape)\n",
    "\n",
    "# Pytorch train and test sets\n",
    "train = torch.utils.data.TensorDataset(torch_X_train,torch_y_train)\n",
    "test = torch.utils.data.TensorDataset(torch_X_test,torch_y_test)\n",
    "\n",
    "# data loader\n",
    "train_loader = torch.utils.data.DataLoader(train, batch_size = BATCH_SIZE, shuffle = False)\n",
    "test_loader = torch.utils.data.DataLoader(test, batch_size = BATCH_SIZE, shuffle = False)"
   ]
  },
  {
   "cell_type": "code",
   "execution_count": 23,
   "metadata": {},
   "outputs": [
    {
     "name": "stdout",
     "output_type": "stream",
     "text": [
      "CNN(\n",
      "  (conv1): Conv2d(1, 32, kernel_size=(5, 5), stride=(1, 1))\n",
      "  (conv2): Conv2d(32, 32, kernel_size=(5, 5), stride=(1, 1))\n",
      "  (conv3): Conv2d(32, 64, kernel_size=(5, 5), stride=(1, 1))\n",
      "  (fc1): Linear(in_features=576, out_features=256, bias=True)\n",
      "  (fc2): Linear(in_features=256, out_features=10, bias=True)\n",
      ")\n",
      "torch.Size([32, 10])\n"
     ]
    }
   ],
   "source": [
    "class CNN(nn.Module):\n",
    "    def __init__(self):\n",
    "        super(CNN, self).__init__()\n",
    "        self.conv1 = nn.Conv2d(1, 32, kernel_size=5)\n",
    "        self.conv2 = nn.Conv2d(32, 32, kernel_size=5)\n",
    "        self.conv3 = nn.Conv2d(32,64, kernel_size=5)\n",
    "        self.fc1 = nn.Linear(3*3*64, 256)\n",
    "        self.fc2 = nn.Linear(256, 10)\n",
    "\n",
    "    def forward(self, x):\n",
    "        x = F.relu(self.conv1(x))\n",
    "        x = F.relu(F.max_pool2d(self.conv2(x), 2))\n",
    "        x = F.dropout(x, p=0.5, training=self.training)\n",
    "        x = F.relu(F.max_pool2d(self.conv3(x),2))\n",
    "        x = F.dropout(x, p=0.5, training=self.training)\n",
    "        x = x.view(-1,3*3*64 )\n",
    "        x = F.relu(self.fc1(x))\n",
    "        x = F.dropout(x, training=self.training)\n",
    "        x = self.fc2(x)\n",
    "        return F.log_softmax(x, dim=1)\n",
    " \n",
    "cnn = CNN()\n",
    "print(cnn)\n",
    "\n",
    "it = iter(train_loader)\n",
    "X_batch, y_batch = next(it)\n",
    "print(cnn.forward(X_batch).shape)"
   ]
  },
  {
   "cell_type": "code",
   "execution_count": 24,
   "metadata": {},
   "outputs": [
    {
     "name": "stdout",
     "output_type": "stream",
     "text": [
      "Epoch : 0 [0/35700 (0%)]\tLoss: 14.307978\t Accuracy:12.500%\n",
      "Epoch : 0 [1600/35700 (4%)]\tLoss: 1.705261\t Accuracy:18.444%\n",
      "Epoch : 0 [3200/35700 (9%)]\tLoss: 1.662079\t Accuracy:32.766%\n",
      "Epoch : 0 [4800/35700 (13%)]\tLoss: 1.028291\t Accuracy:44.247%\n",
      "Epoch : 0 [6400/35700 (18%)]\tLoss: 0.929903\t Accuracy:52.114%\n",
      "Epoch : 0 [8000/35700 (22%)]\tLoss: 0.689883\t Accuracy:57.632%\n",
      "Epoch : 0 [9600/35700 (27%)]\tLoss: 0.388848\t Accuracy:61.887%\n",
      "Epoch : 0 [11200/35700 (31%)]\tLoss: 0.642749\t Accuracy:64.975%\n",
      "Epoch : 0 [12800/35700 (36%)]\tLoss: 0.596615\t Accuracy:67.581%\n",
      "Epoch : 0 [14400/35700 (40%)]\tLoss: 0.198605\t Accuracy:69.852%\n",
      "Epoch : 0 [16000/35700 (45%)]\tLoss: 0.377184\t Accuracy:71.700%\n",
      "Epoch : 0 [17600/35700 (49%)]\tLoss: 0.313917\t Accuracy:73.378%\n",
      "Epoch : 0 [19200/35700 (54%)]\tLoss: 0.388675\t Accuracy:74.563%\n",
      "Epoch : 0 [20800/35700 (58%)]\tLoss: 0.450736\t Accuracy:75.682%\n",
      "Epoch : 0 [22400/35700 (63%)]\tLoss: 0.398944\t Accuracy:76.721%\n",
      "Epoch : 0 [24000/35700 (67%)]\tLoss: 0.191631\t Accuracy:77.651%\n",
      "Epoch : 0 [25600/35700 (72%)]\tLoss: 0.597944\t Accuracy:78.523%\n",
      "Epoch : 0 [27200/35700 (76%)]\tLoss: 0.111645\t Accuracy:79.293%\n",
      "Epoch : 0 [28800/35700 (81%)]\tLoss: 0.347740\t Accuracy:79.984%\n",
      "Epoch : 0 [30400/35700 (85%)]\tLoss: 0.217426\t Accuracy:80.596%\n",
      "Epoch : 0 [32000/35700 (90%)]\tLoss: 0.272309\t Accuracy:81.113%\n",
      "Epoch : 0 [33600/35700 (94%)]\tLoss: 0.105000\t Accuracy:81.681%\n",
      "Epoch : 0 [35200/35700 (99%)]\tLoss: 0.276630\t Accuracy:82.107%\n",
      "Epoch : 1 [0/35700 (0%)]\tLoss: 0.303498\t Accuracy:87.500%\n",
      "Epoch : 1 [1600/35700 (4%)]\tLoss: 0.181981\t Accuracy:91.667%\n",
      "Epoch : 1 [3200/35700 (9%)]\tLoss: 0.155338\t Accuracy:92.450%\n",
      "Epoch : 1 [4800/35700 (13%)]\tLoss: 0.125079\t Accuracy:92.322%\n",
      "Epoch : 1 [6400/35700 (18%)]\tLoss: 0.355690\t Accuracy:92.506%\n",
      "Epoch : 1 [8000/35700 (22%)]\tLoss: 0.260787\t Accuracy:92.530%\n",
      "Epoch : 1 [9600/35700 (27%)]\tLoss: 0.118454\t Accuracy:92.691%\n",
      "Epoch : 1 [11200/35700 (31%)]\tLoss: 0.169151\t Accuracy:92.673%\n",
      "Epoch : 1 [12800/35700 (36%)]\tLoss: 0.402997\t Accuracy:92.776%\n",
      "Epoch : 1 [14400/35700 (40%)]\tLoss: 0.135638\t Accuracy:92.794%\n",
      "Epoch : 1 [16000/35700 (45%)]\tLoss: 0.123875\t Accuracy:92.908%\n",
      "Epoch : 1 [17600/35700 (49%)]\tLoss: 0.083086\t Accuracy:93.035%\n",
      "Epoch : 1 [19200/35700 (54%)]\tLoss: 0.134141\t Accuracy:93.022%\n",
      "Epoch : 1 [20800/35700 (58%)]\tLoss: 0.176215\t Accuracy:93.016%\n",
      "Epoch : 1 [22400/35700 (63%)]\tLoss: 0.334361\t Accuracy:93.032%\n",
      "Epoch : 1 [24000/35700 (67%)]\tLoss: 0.075776\t Accuracy:93.034%\n",
      "Epoch : 1 [25600/35700 (72%)]\tLoss: 0.394708\t Accuracy:93.114%\n",
      "Epoch : 1 [27200/35700 (76%)]\tLoss: 0.227748\t Accuracy:93.170%\n",
      "Epoch : 1 [28800/35700 (81%)]\tLoss: 0.198309\t Accuracy:93.251%\n",
      "Epoch : 1 [30400/35700 (85%)]\tLoss: 0.146292\t Accuracy:93.254%\n",
      "Epoch : 1 [32000/35700 (90%)]\tLoss: 0.089072\t Accuracy:93.254%\n",
      "Epoch : 1 [33600/35700 (94%)]\tLoss: 0.011970\t Accuracy:93.307%\n",
      "Epoch : 1 [35200/35700 (99%)]\tLoss: 0.387556\t Accuracy:93.370%\n",
      "Epoch : 2 [0/35700 (0%)]\tLoss: 0.120832\t Accuracy:96.875%\n",
      "Epoch : 2 [1600/35700 (4%)]\tLoss: 0.130205\t Accuracy:94.424%\n",
      "Epoch : 2 [3200/35700 (9%)]\tLoss: 0.241499\t Accuracy:94.895%\n",
      "Epoch : 2 [4800/35700 (13%)]\tLoss: 0.215327\t Accuracy:94.681%\n",
      "Epoch : 2 [6400/35700 (18%)]\tLoss: 0.486366\t Accuracy:94.683%\n",
      "Epoch : 2 [8000/35700 (22%)]\tLoss: 0.304438\t Accuracy:94.597%\n",
      "Epoch : 2 [9600/35700 (27%)]\tLoss: 0.338317\t Accuracy:94.622%\n",
      "Epoch : 2 [11200/35700 (31%)]\tLoss: 0.153709\t Accuracy:94.489%\n",
      "Epoch : 2 [12800/35700 (36%)]\tLoss: 0.263748\t Accuracy:94.553%\n",
      "Epoch : 2 [14400/35700 (40%)]\tLoss: 0.124572\t Accuracy:94.561%\n",
      "Epoch : 2 [16000/35700 (45%)]\tLoss: 0.231324\t Accuracy:94.623%\n",
      "Epoch : 2 [17600/35700 (49%)]\tLoss: 0.266386\t Accuracy:94.629%\n",
      "Epoch : 2 [19200/35700 (54%)]\tLoss: 0.089792\t Accuracy:94.525%\n",
      "Epoch : 2 [20800/35700 (58%)]\tLoss: 0.208536\t Accuracy:94.489%\n",
      "Epoch : 2 [22400/35700 (63%)]\tLoss: 0.424417\t Accuracy:94.521%\n",
      "Epoch : 2 [24000/35700 (67%)]\tLoss: 0.131540\t Accuracy:94.511%\n",
      "Epoch : 2 [25600/35700 (72%)]\tLoss: 0.567449\t Accuracy:94.542%\n",
      "Epoch : 2 [27200/35700 (76%)]\tLoss: 0.213967\t Accuracy:94.554%\n",
      "Epoch : 2 [28800/35700 (81%)]\tLoss: 0.316455\t Accuracy:94.572%\n",
      "Epoch : 2 [30400/35700 (85%)]\tLoss: 0.480324\t Accuracy:94.585%\n",
      "Epoch : 2 [32000/35700 (90%)]\tLoss: 0.204996\t Accuracy:94.587%\n",
      "Epoch : 2 [33600/35700 (94%)]\tLoss: 0.019038\t Accuracy:94.600%\n",
      "Epoch : 2 [35200/35700 (99%)]\tLoss: 0.287450\t Accuracy:94.599%\n",
      "Epoch : 3 [0/35700 (0%)]\tLoss: 0.267792\t Accuracy:90.625%\n",
      "Epoch : 3 [1600/35700 (4%)]\tLoss: 0.142827\t Accuracy:94.914%\n",
      "Epoch : 3 [3200/35700 (9%)]\tLoss: 0.034998\t Accuracy:95.266%\n",
      "Epoch : 3 [4800/35700 (13%)]\tLoss: 0.300796\t Accuracy:95.095%\n",
      "Epoch : 3 [6400/35700 (18%)]\tLoss: 0.186903\t Accuracy:95.211%\n",
      "Epoch : 3 [8000/35700 (22%)]\tLoss: 0.011562\t Accuracy:95.095%\n",
      "Epoch : 3 [9600/35700 (27%)]\tLoss: 0.025860\t Accuracy:95.079%\n",
      "Epoch : 3 [11200/35700 (31%)]\tLoss: 0.059481\t Accuracy:94.827%\n",
      "Epoch : 3 [12800/35700 (36%)]\tLoss: 0.666604\t Accuracy:94.786%\n",
      "Epoch : 3 [14400/35700 (40%)]\tLoss: 0.453769\t Accuracy:94.748%\n",
      "Epoch : 3 [16000/35700 (45%)]\tLoss: 0.454881\t Accuracy:94.817%\n",
      "Epoch : 3 [17600/35700 (49%)]\tLoss: 0.090755\t Accuracy:94.822%\n",
      "Epoch : 3 [19200/35700 (54%)]\tLoss: 0.058393\t Accuracy:94.858%\n",
      "Epoch : 3 [20800/35700 (58%)]\tLoss: 0.266525\t Accuracy:94.830%\n",
      "Epoch : 3 [22400/35700 (63%)]\tLoss: 0.123423\t Accuracy:94.820%\n",
      "Epoch : 3 [24000/35700 (67%)]\tLoss: 0.020495\t Accuracy:94.794%\n",
      "Epoch : 3 [25600/35700 (72%)]\tLoss: 0.217031\t Accuracy:94.846%\n",
      "Epoch : 3 [27200/35700 (76%)]\tLoss: 0.532219\t Accuracy:94.837%\n",
      "Epoch : 3 [28800/35700 (81%)]\tLoss: 0.018151\t Accuracy:94.926%\n",
      "Epoch : 3 [30400/35700 (85%)]\tLoss: 0.244827\t Accuracy:94.913%\n",
      "Epoch : 3 [32000/35700 (90%)]\tLoss: 0.349204\t Accuracy:94.899%\n",
      "Epoch : 3 [33600/35700 (94%)]\tLoss: 0.014795\t Accuracy:94.933%\n",
      "Epoch : 3 [35200/35700 (99%)]\tLoss: 0.006557\t Accuracy:94.922%\n",
      "Epoch : 4 [0/35700 (0%)]\tLoss: 0.267103\t Accuracy:87.500%\n",
      "Epoch : 4 [1600/35700 (4%)]\tLoss: 0.005158\t Accuracy:95.650%\n",
      "Epoch : 4 [3200/35700 (9%)]\tLoss: 0.113881\t Accuracy:95.452%\n",
      "Epoch : 4 [4800/35700 (13%)]\tLoss: 0.355295\t Accuracy:95.178%\n",
      "Epoch : 4 [6400/35700 (18%)]\tLoss: 0.231983\t Accuracy:95.289%\n",
      "Epoch : 4 [8000/35700 (22%)]\tLoss: 0.360434\t Accuracy:95.182%\n",
      "Epoch : 4 [9600/35700 (27%)]\tLoss: 0.024197\t Accuracy:95.224%\n",
      "Epoch : 4 [11200/35700 (31%)]\tLoss: 0.024752\t Accuracy:95.112%\n",
      "Epoch : 4 [12800/35700 (36%)]\tLoss: 0.403130\t Accuracy:95.200%\n",
      "Epoch : 4 [14400/35700 (40%)]\tLoss: 0.121830\t Accuracy:95.267%\n",
      "Epoch : 4 [16000/35700 (45%)]\tLoss: 0.180896\t Accuracy:95.297%\n",
      "Epoch : 4 [17600/35700 (49%)]\tLoss: 0.063157\t Accuracy:95.338%\n",
      "Epoch : 4 [19200/35700 (54%)]\tLoss: 0.069123\t Accuracy:95.274%\n",
      "Epoch : 4 [20800/35700 (58%)]\tLoss: 0.274963\t Accuracy:95.238%\n",
      "Epoch : 4 [22400/35700 (63%)]\tLoss: 0.140155\t Accuracy:95.203%\n",
      "Epoch : 4 [24000/35700 (67%)]\tLoss: 0.053201\t Accuracy:95.127%\n",
      "Epoch : 4 [25600/35700 (72%)]\tLoss: 0.197056\t Accuracy:95.190%\n",
      "Epoch : 4 [27200/35700 (76%)]\tLoss: 0.134138\t Accuracy:95.208%\n",
      "Epoch : 4 [28800/35700 (81%)]\tLoss: 0.046900\t Accuracy:95.248%\n",
      "Epoch : 4 [30400/35700 (85%)]\tLoss: 0.322686\t Accuracy:95.222%\n",
      "Epoch : 4 [32000/35700 (90%)]\tLoss: 0.072889\t Accuracy:95.158%\n",
      "Epoch : 4 [33600/35700 (94%)]\tLoss: 0.022309\t Accuracy:95.121%\n",
      "Epoch : 4 [35200/35700 (99%)]\tLoss: 0.203570\t Accuracy:95.158%\n"
     ]
    }
   ],
   "source": [
    "fit(cnn,train_loader)"
   ]
  },
  {
   "cell_type": "code",
   "execution_count": 25,
   "metadata": {},
   "outputs": [
    {
     "name": "stdout",
     "output_type": "stream",
     "text": [
      "2\n",
      "tensor(2)\n"
     ]
    },
    {
     "data": {
      "image/png": "[encoded data removed]",
      "text/plain": [
       "<Figure size 432x288 with 1 Axes>"
      ]
     },
     "metadata": {
      "needs_background": "light"
     },
     "output_type": "display_data"
    }
   ],
   "source": [
    "cnn.eval()              # turn the model to evaluate mode\n",
    "index = 100\n",
    "torch_X_test = torch_X_test.view(-1,1,28,28).float().type(torch.LongTensor)\n",
    "image = torch_X_test[index].float().unsqueeze(0)\n",
    "true_label = y_test[index]\n",
    "with torch.no_grad():     # does not calculate gradient\n",
    "    class_index = cnn(image).argmax()   #gets the prediction for the image's class\n",
    "plt.imshow(image.numpy().reshape(28,28,1), cmap='gray_r');\n",
    "print(true_label)\n",
    "print(class_index)"
   ]
  },
  {
   "cell_type": "markdown",
   "metadata": {},
   "source": [
    "MLP -> Epoch : 4 [35200/35700 (99%)]\tLoss: 0.471549\t Accuracy:96.983%  \n",
    "CNN -> Epoch : 4 [35200/35700 (99%)]\tLoss: 0.203570\t Accuracy:95.158%  \n",
    "\n",
    "The MLP model has a slightly higher accuracy but also a significanlty larger loss. A high accuracy with a high loss means the model made large errors on a few data records. The MLP model also trained very fast at 12.5 seconds.    \n",
    "\n",
    "The CNN model has a slightly lower accuracy but a signicantly smaller loss than the MLP model. This means that although the MLP model classified more of the data correctly, the one's that it got wrong were larger errors. The CNN model took significantly longer to train at 1 minute and 32.2 seconds. Depending on your use-case of the model, you might prefer the slightly higher accuracy/training speed of the MLP or the lower loss of the CNN model. "
   ]
  }
 ],
 "metadata": {
  "kernelspec": {
   "display_name": "Python 3",
   "language": "python",
   "name": "python3"
  },
  "language_info": {
   "codemirror_mode": {
    "name": "ipython",
    "version": 3
   },
   "file_extension": ".py",
   "mimetype": "text/x-python",
   "name": "python",
   "nbconvert_exporter": "python",
   "pygments_lexer": "ipython3",
   "version": "3.10.4"
  }
 },
 "nbformat": 4,
 "nbformat_minor": 4
}
